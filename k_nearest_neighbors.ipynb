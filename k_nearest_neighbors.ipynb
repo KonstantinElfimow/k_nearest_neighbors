{
  "nbformat": 4,
  "nbformat_minor": 0,
  "metadata": {
    "colab": {
      "provenance": [],
      "authorship_tag": "ABX9TyPMbM5+tXGKnqSeigeQVRaq",
      "include_colab_link": true
    },
    "kernelspec": {
      "name": "python3",
      "display_name": "Python 3"
    },
    "language_info": {
      "name": "python"
    }
  },
  "cells": [
    {
      "cell_type": "markdown",
      "metadata": {
        "id": "view-in-github",
        "colab_type": "text"
      },
      "source": [
        "<a href=\"https://colab.research.google.com/github/KonstantinElfimow/k_nearest_neighbors/blob/main/k_nearest_neighbors.ipynb\" target=\"_parent\"><img src=\"https://colab.research.google.com/assets/colab-badge.svg\" alt=\"Open In Colab\"/></a>"
      ]
    },
    {
      "cell_type": "code",
      "execution_count": 1,
      "metadata": {
        "id": "nPGy89Co9fB_"
      },
      "outputs": [],
      "source": [
        "from sklearn.datasets import make_classification\n",
        "import pandas as pd\n",
        "import numpy as np\n",
        "import matplotlib.pyplot as plt\n",
        "import seaborn as sns\n",
        "from matplotlib.colors import ListedColormap\n",
        "import warnings\n",
        "warnings.simplefilter(action='ignore', category=FutureWarning)"
      ]
    },
    {
      "cell_type": "code",
      "source": [
        "X, y = make_classification(n_samples=110, n_features=2, n_informative=2,\n",
        "                           n_redundant=0, n_classes=2, random_state=6)\n",
        "display(X, y)"
      ],
      "metadata": {
        "colab": {
          "base_uri": "https://localhost:8080/",
          "height": 1000
        },
        "id": "T0pxZdU291Y6",
        "outputId": "1546e208-7c7a-4f29-aa25-7672097097de"
      },
      "execution_count": 2,
      "outputs": [
        {
          "output_type": "display_data",
          "data": {
            "text/plain": [
              "array([[-1.71435607,  1.05793305],\n",
              "       [ 1.22308043, -2.2635163 ],\n",
              "       [-0.74339553, -0.82836749],\n",
              "       [-3.10114999,  0.55737705],\n",
              "       [-1.25272785, -1.99962916],\n",
              "       [ 1.295549  , -0.90585939],\n",
              "       [-0.39121512,  1.30843756],\n",
              "       [-2.29436606, -0.32114685],\n",
              "       [-0.37326143, -1.5106069 ],\n",
              "       [ 0.84350362,  0.03804169],\n",
              "       [-1.23337772,  0.62869299],\n",
              "       [-0.51595847, -1.69033762],\n",
              "       [ 0.11293492, -1.46417755],\n",
              "       [ 0.39978471, -1.3120226 ],\n",
              "       [-2.49684085, -0.0139064 ],\n",
              "       [ 1.19899006,  1.27323302],\n",
              "       [-1.84733371,  1.17918884],\n",
              "       [-1.68009315,  0.94130391],\n",
              "       [ 2.6400623 , -0.13810078],\n",
              "       [-1.8453037 ,  0.96321745],\n",
              "       [-0.71170663,  0.71554382],\n",
              "       [-0.02934338, -1.59054511],\n",
              "       [ 1.23158511,  1.36757795],\n",
              "       [ 1.72196418, -0.7425116 ],\n",
              "       [ 1.5719743 , -3.17595646],\n",
              "       [ 0.14132289, -1.44743003],\n",
              "       [ 1.80872881, -0.63583078],\n",
              "       [ 1.79510491, -0.69260501],\n",
              "       [ 0.07462334,  1.01023259],\n",
              "       [ 0.95171302,  1.44854725],\n",
              "       [-1.19446451, -0.8474957 ],\n",
              "       [ 1.25632941,  0.35620977],\n",
              "       [-2.24908252, -0.28644243],\n",
              "       [ 0.82474865, -0.03271731],\n",
              "       [ 0.18634794,  0.05062521],\n",
              "       [ 1.03098019,  1.42444297],\n",
              "       [ 0.68659065, -0.02781403],\n",
              "       [-1.14524878,  1.4430906 ],\n",
              "       [ 0.22013091,  0.9582595 ],\n",
              "       [ 0.40798076, -2.16809281],\n",
              "       [ 0.4668523 ,  1.1886345 ],\n",
              "       [ 0.82664994,  1.4672776 ],\n",
              "       [-0.47732004,  0.97301565],\n",
              "       [-0.52964965, -1.61180206],\n",
              "       [ 1.18049148, -0.88573201],\n",
              "       [ 0.56858555,  1.63416065],\n",
              "       [-1.63075668,  0.88990026],\n",
              "       [-0.52147411, -1.29269155],\n",
              "       [ 1.17920531, -0.95482454],\n",
              "       [-1.08235506, -0.95981772],\n",
              "       [-0.01062043, -1.51978412],\n",
              "       [-1.11904418, -1.35724946],\n",
              "       [-0.43372781,  0.81710993],\n",
              "       [-1.90408022,  0.78778037],\n",
              "       [-0.12250595, -1.89663844],\n",
              "       [-1.19512354,  1.02316418],\n",
              "       [-0.11045328, -1.70842715],\n",
              "       [-1.5727935 ,  0.95296353],\n",
              "       [-0.13483089,  0.36769071],\n",
              "       [-1.58212305,  0.2779565 ],\n",
              "       [ 1.28048571, -0.66705982],\n",
              "       [-1.29807152,  1.00564621],\n",
              "       [-2.60556052,  0.20090259],\n",
              "       [ 0.22402532,  1.70119761],\n",
              "       [ 0.01109194,  0.81931453],\n",
              "       [ 1.12696083,  2.34009809],\n",
              "       [ 0.34701998,  0.64856096],\n",
              "       [ 4.58019646,  0.59593671],\n",
              "       [ 1.68669243, -0.82136343],\n",
              "       [ 0.52861697, -0.97362376],\n",
              "       [ 1.08127939, -0.76460936],\n",
              "       [-1.47184038,  1.03743568],\n",
              "       [-0.21275877, -1.83408772],\n",
              "       [-2.16271324,  0.22109986],\n",
              "       [ 1.10337767,  1.54338503],\n",
              "       [ 1.24406513, -0.13074864],\n",
              "       [-0.40739519, -1.42213182],\n",
              "       [-0.93039933, -1.09566136],\n",
              "       [ 0.23490551, -0.37733286],\n",
              "       [ 1.02465948, -0.19060412],\n",
              "       [ 1.61901905,  1.94712244],\n",
              "       [ 1.23318754, -0.76543014],\n",
              "       [ 0.61407512, -2.55871026],\n",
              "       [ 1.29357898, -0.96566098],\n",
              "       [-2.14728937,  0.55909197],\n",
              "       [-0.70433282, -0.63475682],\n",
              "       [-2.29338649,  0.20224234],\n",
              "       [-0.23878794,  1.09339004],\n",
              "       [ 1.2265298 ,  1.8491658 ],\n",
              "       [ 1.64658987, -0.55485143],\n",
              "       [ 1.99181785,  1.11576034],\n",
              "       [ 1.09924989, -0.90411481],\n",
              "       [ 0.80976032, -1.12345802],\n",
              "       [-0.0794199 ,  1.66274856],\n",
              "       [-2.00891792, -0.15619181],\n",
              "       [-0.4338418 , -1.93937779],\n",
              "       [-0.68161073,  1.14872781],\n",
              "       [ 1.2366826 , -0.97721481],\n",
              "       [ 0.02942419, -1.32562721],\n",
              "       [ 2.61750165,  2.21818536],\n",
              "       [ 1.35553342,  1.26584188],\n",
              "       [-1.03567978,  1.0224662 ],\n",
              "       [-1.73036196, -0.17567094],\n",
              "       [-0.71819552,  0.30636576],\n",
              "       [-1.74881986,  0.94640166],\n",
              "       [ 0.362523  , -1.99527252],\n",
              "       [-0.10894122, -1.62186578],\n",
              "       [-1.79350521, -1.06662938],\n",
              "       [ 0.43640371,  0.59084543],\n",
              "       [ 0.78339011, -1.07954513]])"
            ]
          },
          "metadata": {}
        },
        {
          "output_type": "display_data",
          "data": {
            "text/plain": [
              "array([1, 0, 0, 0, 0, 0, 1, 0, 0, 1, 1, 0, 0, 0, 0, 1, 1, 1, 0, 1, 1, 0,\n",
              "       1, 0, 0, 0, 0, 0, 1, 1, 0, 1, 0, 1, 1, 1, 1, 1, 1, 0, 1, 1, 1, 0,\n",
              "       0, 1, 1, 0, 0, 0, 0, 0, 1, 1, 0, 1, 0, 1, 1, 1, 0, 1, 0, 1, 1, 1,\n",
              "       1, 0, 0, 0, 1, 1, 0, 0, 1, 1, 0, 0, 1, 1, 1, 1, 0, 0, 1, 0, 0, 1,\n",
              "       1, 0, 1, 0, 0, 1, 0, 0, 1, 0, 0, 1, 1, 1, 0, 1, 1, 0, 0, 0, 1, 0])"
            ]
          },
          "metadata": {}
        }
      ]
    },
    {
      "cell_type": "code",
      "source": [
        "from sklearn.model_selection import train_test_split\n",
        "\n",
        "X_train, X_test, y_train, y_test = train_test_split(X, y, random_state=10, test_size=10)\n",
        "X_train.shape, X_test.shape"
      ],
      "metadata": {
        "colab": {
          "base_uri": "https://localhost:8080/"
        },
        "id": "QQJqAamp-aZd",
        "outputId": "0f6740c2-e1e3-48bd-8bf9-4a3188774bc7"
      },
      "execution_count": 3,
      "outputs": [
        {
          "output_type": "execute_result",
          "data": {
            "text/plain": [
              "((100, 2), (10, 2))"
            ]
          },
          "metadata": {},
          "execution_count": 3
        }
      ]
    },
    {
      "cell_type": "code",
      "source": [
        "cmap_bold = ['darkorange', 'darkblue']\n",
        "\n",
        "plt.figure(figsize=(10, 8))\n",
        "sns.scatterplot(\n",
        "    x=X_train[:, 0],\n",
        "    y=X_train[:, 1],\n",
        "    hue=y_train,\n",
        "    palette=cmap_bold\n",
        ")\n",
        "\n",
        "plt.scatter(X_test[:, 0], X_test[:, 1], c='g', marker='*', s=100, label='test_dots')\n",
        "plt.legend();"
      ],
      "metadata": {
        "colab": {
          "base_uri": "https://localhost:8080/",
          "height": 676
        },
        "id": "UN6Y7ESP-13P",
        "outputId": "ac034fa7-1d3e-43fe-fdb6-7a727abe4513"
      },
      "execution_count": 4,
      "outputs": [
        {
          "output_type": "display_data",
          "data": {
            "text/plain": [
              "<Figure size 1000x800 with 1 Axes>"
            ],
            "image/png": "[encoded data removed]"
          },
          "metadata": {}
        }
      ]
    },
    {
      "cell_type": "markdown",
      "source": [
        "# Обучение KNN"
      ],
      "metadata": {
        "id": "z7VRMlKh_-nv"
      }
    },
    {
      "cell_type": "code",
      "source": [
        "from sklearn.neighbors import KNeighborsClassifier\n",
        "\n",
        "n_neighbors = 3\n",
        "model = KNeighborsClassifier(n_neighbors=n_neighbors)"
      ],
      "metadata": {
        "id": "Cp-Y1zaB_s30"
      },
      "execution_count": 5,
      "outputs": []
    },
    {
      "cell_type": "markdown",
      "source": [
        "После инициализации модели обучаем её на обучающей выборке. При этом помним, что никакого обучения нет, модель просто сохраняет выборку."
      ],
      "metadata": {
        "id": "hE52zshYAapB"
      }
    },
    {
      "cell_type": "code",
      "source": [
        "model.fit(X_train, y_train)"
      ],
      "metadata": {
        "colab": {
          "base_uri": "https://localhost:8080/",
          "height": 75
        },
        "id": "lFbY3JIuAYI_",
        "outputId": "2d0fc8be-af68-4607-cadf-eebc27c603b9"
      },
      "execution_count": 6,
      "outputs": [
        {
          "output_type": "execute_result",
          "data": {
            "text/plain": [
              "KNeighborsClassifier(n_neighbors=3)"
            ],
            "text/html": [
              "<style>#sk-container-id-1 {color: black;background-color: white;}#sk-container-id-1 pre{padding: 0;}#sk-container-id-1 div.sk-toggleable {background-color: white;}#sk-container-id-1 label.sk-toggleable__label {cursor: pointer;display: block;width: 100%;margin-bottom: 0;padding: 0.3em;box-sizing: border-box;text-align: center;}#sk-container-id-1 label.sk-toggleable__label-arrow:before {content: \"▸\";float: left;margin-right: 0.25em;color: #696969;}#sk-container-id-1 label.sk-toggleable__label-arrow:hover:before {color: black;}#sk-container-id-1 div.sk-estimator:hover label.sk-toggleable__label-arrow:before {color: black;}#sk-container-id-1 div.sk-toggleable__content {max-height: 0;max-width: 0;overflow: hidden;text-align: left;background-color: #f0f8ff;}#sk-container-id-1 div.sk-toggleable__content pre {margin: 0.2em;color: black;border-radius: 0.25em;background-color: #f0f8ff;}#sk-container-id-1 input.sk-toggleable__control:checked~div.sk-toggleable__content {max-height: 200px;max-width: 100%;overflow: auto;}#sk-container-id-1 input.sk-toggleable__control:checked~label.sk-toggleable__label-arrow:before {content: \"▾\";}#sk-container-id-1 div.sk-estimator input.sk-toggleable__control:checked~label.sk-toggleable__label {background-color: #d4ebff;}#sk-container-id-1 div.sk-label input.sk-toggleable__control:checked~label.sk-toggleable__label {background-color: #d4ebff;}#sk-container-id-1 input.sk-hidden--visually {border: 0;clip: rect(1px 1px 1px 1px);clip: rect(1px, 1px, 1px, 1px);height: 1px;margin: -1px;overflow: hidden;padding: 0;position: absolute;width: 1px;}#sk-container-id-1 div.sk-estimator {font-family: monospace;background-color: #f0f8ff;border: 1px dotted black;border-radius: 0.25em;box-sizing: border-box;margin-bottom: 0.5em;}#sk-container-id-1 div.sk-estimator:hover {background-color: #d4ebff;}#sk-container-id-1 div.sk-parallel-item::after {content: \"\";width: 100%;border-bottom: 1px solid gray;flex-grow: 1;}#sk-container-id-1 div.sk-label:hover label.sk-toggleable__label {background-color: #d4ebff;}#sk-container-id-1 div.sk-serial::before {content: \"\";position: absolute;border-left: 1px solid gray;box-sizing: border-box;top: 0;bottom: 0;left: 50%;z-index: 0;}#sk-container-id-1 div.sk-serial {display: flex;flex-direction: column;align-items: center;background-color: white;padding-right: 0.2em;padding-left: 0.2em;position: relative;}#sk-container-id-1 div.sk-item {position: relative;z-index: 1;}#sk-container-id-1 div.sk-parallel {display: flex;align-items: stretch;justify-content: center;background-color: white;position: relative;}#sk-container-id-1 div.sk-item::before, #sk-container-id-1 div.sk-parallel-item::before {content: \"\";position: absolute;border-left: 1px solid gray;box-sizing: border-box;top: 0;bottom: 0;left: 50%;z-index: -1;}#sk-container-id-1 div.sk-parallel-item {display: flex;flex-direction: column;z-index: 1;position: relative;background-color: white;}#sk-container-id-1 div.sk-parallel-item:first-child::after {align-self: flex-end;width: 50%;}#sk-container-id-1 div.sk-parallel-item:last-child::after {align-self: flex-start;width: 50%;}#sk-container-id-1 div.sk-parallel-item:only-child::after {width: 0;}#sk-container-id-1 div.sk-dashed-wrapped {border: 1px dashed gray;margin: 0 0.4em 0.5em 0.4em;box-sizing: border-box;padding-bottom: 0.4em;background-color: white;}#sk-container-id-1 div.sk-label label {font-family: monospace;font-weight: bold;display: inline-block;line-height: 1.2em;}#sk-container-id-1 div.sk-label-container {text-align: center;}#sk-container-id-1 div.sk-container {/* jupyter's `normalize.less` sets `[hidden] { display: none; }` but bootstrap.min.css set `[hidden] { display: none !important; }` so we also need the `!important` here to be able to override the default hidden behavior on the sphinx rendered scikit-learn.org. See: https://github.com/scikit-learn/scikit-learn/issues/21755 */display: inline-block !important;position: relative;}#sk-container-id-1 div.sk-text-repr-fallback {display: none;}</style><div id=\"sk-container-id-1\" class=\"sk-top-container\"><div class=\"sk-text-repr-fallback\"><pre>KNeighborsClassifier(n_neighbors=3)</pre><b>In a Jupyter environment, please rerun this cell to show the HTML representation or trust the notebook. <br />On GitHub, the HTML representation is unable to render, please try loading this page with nbviewer.org.</b></div><div class=\"sk-container\" hidden><div class=\"sk-item\"><div class=\"sk-estimator sk-toggleable\"><input class=\"sk-toggleable__control sk-hidden--visually\" id=\"sk-estimator-id-1\" type=\"checkbox\" checked><label for=\"sk-estimator-id-1\" class=\"sk-toggleable__label sk-toggleable__label-arrow\">KNeighborsClassifier</label><div class=\"sk-toggleable__content\"><pre>KNeighborsClassifier(n_neighbors=3)</pre></div></div></div></div></div>"
            ]
          },
          "metadata": {},
          "execution_count": 6
        }
      ]
    },
    {
      "cell_type": "markdown",
      "source": [
        "# Предсказание KNN"
      ],
      "metadata": {
        "id": "_5jWmdLcA0YT"
      }
    },
    {
      "cell_type": "code",
      "source": [
        "pred_test = model.predict(X_test)\n",
        "pred_test"
      ],
      "metadata": {
        "colab": {
          "base_uri": "https://localhost:8080/"
        },
        "id": "Bsx0QQXjAv-a",
        "outputId": "c5709be5-3eec-4f1a-e08b-09696d64af1b"
      },
      "execution_count": 7,
      "outputs": [
        {
          "output_type": "execute_result",
          "data": {
            "text/plain": [
              "array([1, 1, 0, 0, 1, 1, 1, 1, 0, 1])"
            ]
          },
          "metadata": {},
          "execution_count": 7
        }
      ]
    },
    {
      "cell_type": "code",
      "source": [
        "display(pred_test, y_test)"
      ],
      "metadata": {
        "colab": {
          "base_uri": "https://localhost:8080/",
          "height": 52
        },
        "id": "b4irfxNOA99k",
        "outputId": "985bb887-4cc8-4cb3-a478-f8f10811af29"
      },
      "execution_count": 8,
      "outputs": [
        {
          "output_type": "display_data",
          "data": {
            "text/plain": [
              "array([1, 1, 0, 0, 1, 1, 1, 1, 0, 1])"
            ]
          },
          "metadata": {}
        },
        {
          "output_type": "display_data",
          "data": {
            "text/plain": [
              "array([1, 1, 0, 0, 1, 1, 1, 1, 0, 1])"
            ]
          },
          "metadata": {}
        }
      ]
    },
    {
      "cell_type": "markdown",
      "source": [
        "Предсказанные классы соответствуют действительности. Действительно, если мы глянем на картинку выше, то можем так же принять решения о принадлежности точек к одному из классов."
      ],
      "metadata": {
        "id": "xmHZveZmBE8t"
      }
    },
    {
      "cell_type": "markdown",
      "source": [
        "**Детали получения предсказания KNN**"
      ],
      "metadata": {
        "id": "M6ao77dsBa-B"
      }
    },
    {
      "cell_type": "markdown",
      "source": [
        "Посмотрим на ближайших соседей для пары тестовых объектов.\n",
        "Для этого:\n",
        "1. Пройдёмся по всем обучающим объектам\n",
        "2. Посчитаем Эвклидово расстояние (оно используется по умолчанию в KNN в sklearn) через numpy.linalg.norm"
      ],
      "metadata": {
        "id": "3DoJpuOtBmS-"
      }
    },
    {
      "cell_type": "code",
      "source": [
        "idx = 0\n",
        "test_dot = X_test[idx]\n",
        "\n",
        "distances = pd.DataFrame()\n",
        "for i, train_dot in enumerate(X_train):\n",
        "  distances = distances.append({\n",
        "      'train_idx': i,\n",
        "      'dst': np.linalg.norm(train_dot - test_dot, ord=2)\n",
        "  }, ignore_index=True)\n",
        "distances['train_idx'] = distances['train_idx'].astype(int)"
      ],
      "metadata": {
        "id": "0-559CjBBEDk"
      },
      "execution_count": 9,
      "outputs": []
    },
    {
      "cell_type": "code",
      "source": [
        "distances.sort_values('dst').head(n_neighbors)"
      ],
      "metadata": {
        "colab": {
          "base_uri": "https://localhost:8080/",
          "height": 143
        },
        "id": "ieZZR8HvCugl",
        "outputId": "4dd2b0ac-b0be-4056-e384-7a519bcabc09"
      },
      "execution_count": 10,
      "outputs": [
        {
          "output_type": "execute_result",
          "data": {
            "text/plain": [
              "    train_idx       dst\n",
              "40         40  0.159445\n",
              "41         41  0.262930\n",
              "15         15  0.375908"
            ],
            "text/html": [
              "\n",
              "  <div id=\"df-888cefbc-a925-4a68-86ef-f54238114b7d\" class=\"colab-df-container\">\n",
              "    <div>\n",
              "<style scoped>\n",
              "    .dataframe tbody tr th:only-of-type {\n",
              "        vertical-align: middle;\n",
              "    }\n",
              "\n",
              "    .dataframe tbody tr th {\n",
              "        vertical-align: top;\n",
              "    }\n",
              "\n",
              "    .dataframe thead th {\n",
              "        text-align: right;\n",
              "    }\n",
              "</style>\n",
              "<table border=\"1\" class=\"dataframe\">\n",
              "  <thead>\n",
              "    <tr style=\"text-align: right;\">\n",
              "      <th></th>\n",
              "      <th>train_idx</th>\n",
              "      <th>dst</th>\n",
              "    </tr>\n",
              "  </thead>\n",
              "  <tbody>\n",
              "    <tr>\n",
              "      <th>40</th>\n",
              "      <td>40</td>\n",
              "      <td>0.159445</td>\n",
              "    </tr>\n",
              "    <tr>\n",
              "      <th>41</th>\n",
              "      <td>41</td>\n",
              "      <td>0.262930</td>\n",
              "    </tr>\n",
              "    <tr>\n",
              "      <th>15</th>\n",
              "      <td>15</td>\n",
              "      <td>0.375908</td>\n",
              "    </tr>\n",
              "  </tbody>\n",
              "</table>\n",
              "</div>\n",
              "    <div class=\"colab-df-buttons\">\n",
              "\n",
              "  <div class=\"colab-df-container\">\n",
              "    <button class=\"colab-df-convert\" onclick=\"convertToInteractive('df-888cefbc-a925-4a68-86ef-f54238114b7d')\"\n",
              "            title=\"Convert this dataframe to an interactive table.\"\n",
              "            style=\"display:none;\">\n",
              "\n",
              "  <svg xmlns=\"http://www.w3.org/2000/svg\" height=\"24px\" viewBox=\"0 -960 960 960\">\n",
              "    <path d=\"M120-120v-720h720v720H120Zm60-500h600v-160H180v160Zm220 220h160v-160H400v160Zm0 220h160v-160H400v160ZM180-400h160v-160H180v160Zm440 0h160v-160H620v160ZM180-180h160v-160H180v160Zm440 0h160v-160H620v160Z\"/>\n",
              "  </svg>\n",
              "    </button>\n",
              "\n",
              "  <style>\n",
              "    .colab-df-container {\n",
              "      display:flex;\n",
              "      gap: 12px;\n",
              "    }\n",
              "\n",
              "    .colab-df-convert {\n",
              "      background-color: #E8F0FE;\n",
              "      border: none;\n",
              "      border-radius: 50%;\n",
              "      cursor: pointer;\n",
              "      display: none;\n",
              "      fill: #1967D2;\n",
              "      height: 32px;\n",
              "      padding: 0 0 0 0;\n",
              "      width: 32px;\n",
              "    }\n",
              "\n",
              "    .colab-df-convert:hover {\n",
              "      background-color: #E2EBFA;\n",
              "      box-shadow: 0px 1px 2px rgba(60, 64, 67, 0.3), 0px 1px 3px 1px rgba(60, 64, 67, 0.15);\n",
              "      fill: #174EA6;\n",
              "    }\n",
              "\n",
              "    .colab-df-buttons div {\n",
              "      margin-bottom: 4px;\n",
              "    }\n",
              "\n",
              "    [theme=dark] .colab-df-convert {\n",
              "      background-color: #3B4455;\n",
              "      fill: #D2E3FC;\n",
              "    }\n",
              "\n",
              "    [theme=dark] .colab-df-convert:hover {\n",
              "      background-color: #434B5C;\n",
              "      box-shadow: 0px 1px 3px 1px rgba(0, 0, 0, 0.15);\n",
              "      filter: drop-shadow(0px 1px 2px rgba(0, 0, 0, 0.3));\n",
              "      fill: #FFFFFF;\n",
              "    }\n",
              "  </style>\n",
              "\n",
              "    <script>\n",
              "      const buttonEl =\n",
              "        document.querySelector('#df-888cefbc-a925-4a68-86ef-f54238114b7d button.colab-df-convert');\n",
              "      buttonEl.style.display =\n",
              "        google.colab.kernel.accessAllowed ? 'block' : 'none';\n",
              "\n",
              "      async function convertToInteractive(key) {\n",
              "        const element = document.querySelector('#df-888cefbc-a925-4a68-86ef-f54238114b7d');\n",
              "        const dataTable =\n",
              "          await google.colab.kernel.invokeFunction('convertToInteractive',\n",
              "                                                    [key], {});\n",
              "        if (!dataTable) return;\n",
              "\n",
              "        const docLinkHtml = 'Like what you see? Visit the ' +\n",
              "          '<a target=\"_blank\" href=https://colab.research.google.com/notebooks/data_table.ipynb>data table notebook</a>'\n",
              "          + ' to learn more about interactive tables.';\n",
              "        element.innerHTML = '';\n",
              "        dataTable['output_type'] = 'display_data';\n",
              "        await google.colab.output.renderOutput(dataTable, element);\n",
              "        const docLink = document.createElement('div');\n",
              "        docLink.innerHTML = docLinkHtml;\n",
              "        element.appendChild(docLink);\n",
              "      }\n",
              "    </script>\n",
              "  </div>\n",
              "\n",
              "\n",
              "<div id=\"df-ac9dcdbe-fe0d-4ab6-9b27-d8ff1e8c62b2\">\n",
              "  <button class=\"colab-df-quickchart\" onclick=\"quickchart('df-ac9dcdbe-fe0d-4ab6-9b27-d8ff1e8c62b2')\"\n",
              "            title=\"Suggest charts.\"\n",
              "            style=\"display:none;\">\n",
              "\n",
              "<svg xmlns=\"http://www.w3.org/2000/svg\" height=\"24px\"viewBox=\"0 0 24 24\"\n",
              "     width=\"24px\">\n",
              "    <g>\n",
              "        <path d=\"M19 3H5c-1.1 0-2 .9-2 2v14c0 1.1.9 2 2 2h14c1.1 0 2-.9 2-2V5c0-1.1-.9-2-2-2zM9 17H7v-7h2v7zm4 0h-2V7h2v10zm4 0h-2v-4h2v4z\"/>\n",
              "    </g>\n",
              "</svg>\n",
              "  </button>\n",
              "\n",
              "<style>\n",
              "  .colab-df-quickchart {\n",
              "      --bg-color: #E8F0FE;\n",
              "      --fill-color: #1967D2;\n",
              "      --hover-bg-color: #E2EBFA;\n",
              "      --hover-fill-color: #174EA6;\n",
              "      --disabled-fill-color: #AAA;\n",
              "      --disabled-bg-color: #DDD;\n",
              "  }\n",
              "\n",
              "  [theme=dark] .colab-df-quickchart {\n",
              "      --bg-color: #3B4455;\n",
              "      --fill-color: #D2E3FC;\n",
              "      --hover-bg-color: #434B5C;\n",
              "      --hover-fill-color: #FFFFFF;\n",
              "      --disabled-bg-color: #3B4455;\n",
              "      --disabled-fill-color: #666;\n",
              "  }\n",
              "\n",
              "  .colab-df-quickchart {\n",
              "    background-color: var(--bg-color);\n",
              "    border: none;\n",
              "    border-radius: 50%;\n",
              "    cursor: pointer;\n",
              "    display: none;\n",
              "    fill: var(--fill-color);\n",
              "    height: 32px;\n",
              "    padding: 0;\n",
              "    width: 32px;\n",
              "  }\n",
              "\n",
              "  .colab-df-quickchart:hover {\n",
              "    background-color: var(--hover-bg-color);\n",
              "    box-shadow: 0 1px 2px rgba(60, 64, 67, 0.3), 0 1px 3px 1px rgba(60, 64, 67, 0.15);\n",
              "    fill: var(--button-hover-fill-color);\n",
              "  }\n",
              "\n",
              "  .colab-df-quickchart-complete:disabled,\n",
              "  .colab-df-quickchart-complete:disabled:hover {\n",
              "    background-color: var(--disabled-bg-color);\n",
              "    fill: var(--disabled-fill-color);\n",
              "    box-shadow: none;\n",
              "  }\n",
              "\n",
              "  .colab-df-spinner {\n",
              "    border: 2px solid var(--fill-color);\n",
              "    border-color: transparent;\n",
              "    border-bottom-color: var(--fill-color);\n",
              "    animation:\n",
              "      spin 1s steps(1) infinite;\n",
              "  }\n",
              "\n",
              "  @keyframes spin {\n",
              "    0% {\n",
              "      border-color: transparent;\n",
              "      border-bottom-color: var(--fill-color);\n",
              "      border-left-color: var(--fill-color);\n",
              "    }\n",
              "    20% {\n",
              "      border-color: transparent;\n",
              "      border-left-color: var(--fill-color);\n",
              "      border-top-color: var(--fill-color);\n",
              "    }\n",
              "    30% {\n",
              "      border-color: transparent;\n",
              "      border-left-color: var(--fill-color);\n",
              "      border-top-color: var(--fill-color);\n",
              "      border-right-color: var(--fill-color);\n",
              "    }\n",
              "    40% {\n",
              "      border-color: transparent;\n",
              "      border-right-color: var(--fill-color);\n",
              "      border-top-color: var(--fill-color);\n",
              "    }\n",
              "    60% {\n",
              "      border-color: transparent;\n",
              "      border-right-color: var(--fill-color);\n",
              "    }\n",
              "    80% {\n",
              "      border-color: transparent;\n",
              "      border-right-color: var(--fill-color);\n",
              "      border-bottom-color: var(--fill-color);\n",
              "    }\n",
              "    90% {\n",
              "      border-color: transparent;\n",
              "      border-bottom-color: var(--fill-color);\n",
              "    }\n",
              "  }\n",
              "</style>\n",
              "\n",
              "  <script>\n",
              "    async function quickchart(key) {\n",
              "      const quickchartButtonEl =\n",
              "        document.querySelector('#' + key + ' button');\n",
              "      quickchartButtonEl.disabled = true;  // To prevent multiple clicks.\n",
              "      quickchartButtonEl.classList.add('colab-df-spinner');\n",
              "      try {\n",
              "        const charts = await google.colab.kernel.invokeFunction(\n",
              "            'suggestCharts', [key], {});\n",
              "      } catch (error) {\n",
              "        console.error('Error during call to suggestCharts:', error);\n",
              "      }\n",
              "      quickchartButtonEl.classList.remove('colab-df-spinner');\n",
              "      quickchartButtonEl.classList.add('colab-df-quickchart-complete');\n",
              "    }\n",
              "    (() => {\n",
              "      let quickchartButtonEl =\n",
              "        document.querySelector('#df-ac9dcdbe-fe0d-4ab6-9b27-d8ff1e8c62b2 button');\n",
              "      quickchartButtonEl.style.display =\n",
              "        google.colab.kernel.accessAllowed ? 'block' : 'none';\n",
              "    })();\n",
              "  </script>\n",
              "</div>\n",
              "    </div>\n",
              "  </div>\n"
            ]
          },
          "metadata": {},
          "execution_count": 10
        }
      ]
    },
    {
      "cell_type": "markdown",
      "source": [
        "Получим индексы для дальнейшей отрисовки."
      ],
      "metadata": {
        "id": "7VxsY5nWD0JJ"
      }
    },
    {
      "cell_type": "code",
      "source": [
        "nearest_neighbors_idxs = distances.sort_values('dst').head(n_neighbors).index\n",
        "nearest_neighbors_idxs"
      ],
      "metadata": {
        "colab": {
          "base_uri": "https://localhost:8080/"
        },
        "id": "PrDRM4mgDcxo",
        "outputId": "7e447652-d8c1-4f7f-fbb0-d9676547b800"
      },
      "execution_count": 11,
      "outputs": [
        {
          "output_type": "execute_result",
          "data": {
            "text/plain": [
              "Int64Index([40, 41, 15], dtype='int64')"
            ]
          },
          "metadata": {},
          "execution_count": 11
        }
      ]
    },
    {
      "cell_type": "markdown",
      "source": [
        "Отрисовываем три найденных соседа в полупрозрачные зеленые окужности. И видим, что все 3 объекта самые близкие для данного тестового объекта и они все синего цвета, а значит по большинству побеждает именно синий класс."
      ],
      "metadata": {
        "id": "vGZfsDyOEQTX"
      }
    },
    {
      "cell_type": "code",
      "source": [
        "cmap_bold = ['darkorange', 'darkblue']\n",
        "\n",
        "plt.figure(figsize=(10, 8))\n",
        "sns.scatterplot(\n",
        "    x=X_train[:, 0],\n",
        "    y=X_train[:, 1],\n",
        "    hue=y_train,\n",
        "    palette=cmap_bold\n",
        ")\n",
        "\n",
        "plt.scatter(X_train[nearest_neighbors_idxs, 0],\n",
        "            X_train[nearest_neighbors_idxs, 1],\n",
        "            c='g',\n",
        "            alpha=0.3,\n",
        "            marker='o',\n",
        "            s=100,\n",
        "            label='nearest_neighbors')\n",
        "plt.scatter(X_test[idx, 0],\n",
        "            X_test[idx, 1],\n",
        "            c='g',\n",
        "            marker='*',\n",
        "            s=100,\n",
        "            label='test_dot')\n",
        "plt.legend();"
      ],
      "metadata": {
        "colab": {
          "base_uri": "https://localhost:8080/",
          "height": 676
        },
        "id": "UQlECePkEMHv",
        "outputId": "bf9c78e1-970a-4561-fc2d-3a31eae31ccb"
      },
      "execution_count": 12,
      "outputs": [
        {
          "output_type": "display_data",
          "data": {
            "text/plain": [
              "<Figure size 1000x800 with 1 Axes>"
            ],
            "image/png": "[encoded data removed]"
          },
          "metadata": {}
        }
      ]
    },
    {
      "cell_type": "markdown",
      "source": [
        "# Оценки плотности распределения случайной величины"
      ],
      "metadata": {
        "id": "__xCyLLmR7Ui"
      }
    },
    {
      "cell_type": "code",
      "source": [
        "from sklearn.neighbors import KernelDensity\n",
        "\n",
        "# Оценка плотности распределения для k=5\n",
        "kde = KernelDensity(kernel='gaussian', bandwidth=0.2).fit(X_train)\n",
        "density_estimates = kde.score_samples(X_test)\n",
        "\n",
        "# Вывод оценок плотности распределения\n",
        "print(density_estimates)"
      ],
      "metadata": {
        "colab": {
          "base_uri": "https://localhost:8080/"
        },
        "outputId": "52735ec6-2098-42de-bd9f-62316b24a5e1",
        "id": "tMSotpDJR7Uj"
      },
      "execution_count": null,
      "outputs": [
        {
          "output_type": "stream",
          "name": "stdout",
          "text": [
            "[-2.72244132 -2.78240096 -2.11559599 -2.08601104 -2.90876885 -2.8963272\n",
            " -4.63117141 -2.34540404 -3.04714287 -2.63818094]\n"
          ]
        }
      ]
    },
    {
      "cell_type": "markdown",
      "source": [
        "Отрицательные значения означают, что вероятность попадания в данную точку меньше, чем вероятность попадания в среднюю точку набора данных. Это нормально для оценки плотности распределения, так как она не ограничена сверху и может принимать отрицательные значения."
      ],
      "metadata": {
        "id": "pELK-omvR7Uk"
      }
    },
    {
      "cell_type": "markdown",
      "source": [
        "# Как выбрать оптимального количество соседей"
      ],
      "metadata": {
        "id": "3L_-qYOLFqtE"
      }
    },
    {
      "cell_type": "markdown",
      "source": [
        "Нет чёткого алгоритма, как нужно действовать, чтобы найти самое лучшее количество соседей. Главное, не бросаться из крайности в крайность и смотреть на качество предсказания модели."
      ],
      "metadata": {
        "id": "ppOkJ9m5FxeN"
      }
    },
    {
      "cell_type": "markdown",
      "source": [
        "**Слишком мало соседей**"
      ],
      "metadata": {
        "id": "BARONBNgGIeR"
      }
    },
    {
      "cell_type": "markdown",
      "source": [
        "Если взять слишком мало соседей (N < 3), то на предсказание могут влиять выбросные объекты либо предсказания могут вообще оказаться случайными."
      ],
      "metadata": {
        "id": "tC2w4IVZGNZy"
      }
    },
    {
      "cell_type": "markdown",
      "source": [
        "**Слишком много соседей**"
      ],
      "metadata": {
        "id": "_XpgTJMiGdVr"
      }
    },
    {
      "cell_type": "markdown",
      "source": [
        "Если взять слишком много соседей, то предсказание будет очень усреднённым, что может неправильно отнести тест к реальности. Представим, что у нас есть 2 класса, один из которых мало дисперсионный (кучное облачко), а второй - слишком дисперсионный (большое облачко), тогда если мы берём много соседей, а тестовая точка относится ко 2 классу, пусть и на его краю, то может произойти ситуация, когда больше соседей будет из 1 класса, потому что они сгруппированы ближе друг к другу. С этой проблемой помогает бороться модель взвешенного KNN, но сейчас не о ней."
      ],
      "metadata": {
        "id": "oCeUAshpGgrZ"
      }
    },
    {
      "cell_type": "markdown",
      "source": [
        "## Мой вариант"
      ],
      "metadata": {
        "id": "A5LAqllbH-ts"
      }
    },
    {
      "cell_type": "markdown",
      "source": [
        "Но так как в моём варианте сказано определить значение параметра k, при котором достигается минимум среднеквадратичной ошибки оценивания, то этим я сейчас и займусь. Однако стоит учитывать, что для каждой тестовой точки этот параметр может быть уникальный."
      ],
      "metadata": {
        "id": "axceH2L8IFqd"
      }
    },
    {
      "cell_type": "markdown",
      "source": [
        "MSE:\n",
        "![ml-23.png](data:image/png;base64,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)"
      ],
      "metadata": {
        "id": "Ba9ta6H0IU_j"
      }
    },
    {
      "cell_type": "code",
      "source": [
        "from tqdm import tqdm\n",
        "\n",
        "# будем хранить индекс тестовой точки, оптимальный k, MSE при этом k\n",
        "df = pd.DataFrame()\n",
        "for idx, test_dot in tqdm(enumerate(X_test)):\n",
        "  # сначала высчитываем расстояние до всех точек от тестовой тестовой\n",
        "  # и сортируем от ближайших до самых дальних точек\n",
        "  distances = pd.DataFrame()\n",
        "  for i, train_dot in enumerate(X_train):\n",
        "    distances = distances.append({\n",
        "        'train_idx': i,\n",
        "        'dst': np.linalg.norm(train_dot - test_dot, ord=2)\n",
        "    }, ignore_index=True)\n",
        "  distances = distances.sort_values('dst')\n",
        "  distances['train_idx'] = distances['train_idx'].astype(int)\n",
        "  # к какому классу принадлежит каждая из удалённых точек\n",
        "  distances['y_value'] = y[distances['train_idx']]\n",
        "\n",
        "  # считаем минимальную среднеквадратичную ошибку\n",
        "  min_mse = -1\n",
        "  k = -1\n",
        "  # из описанных трудностей выше следует, что min количество соседей = 3\n",
        "  for neighbors in range(3, len(distances) + 1):\n",
        "    sample = distances.iloc[:neighbors, :]\n",
        "    mse = np.sum((sample['y_value'] - sample['y_value'].mean()) ** 2) / neighbors\n",
        "    # зачем нам минимальное MSE, если при этом будет неправильное предсказание?\n",
        "    # Нужно условие, которое проверяет правильность предсказания\n",
        "    if y_test[idx] == int(round(sample['y_value'].mean(), 0))\\\n",
        "      and (mse < min_mse or min_mse < 0):\n",
        "      min_mse = mse\n",
        "      k = neighbors\n",
        "\n",
        "  # записываем в датафрейм итоговое оптимальное k для тестовой точки, при к-м\n",
        "  # достигается min значение MSE\n",
        "  new_row = pd.DataFrame({\n",
        "    'idx_test_dot': idx,\n",
        "    'k_optimal': [k],\n",
        "    'mse': [round(min_mse, 4)]\n",
        "  })\n",
        "  df = pd.concat([df, new_row], ignore_index=True)"
      ],
      "metadata": {
        "colab": {
          "base_uri": "https://localhost:8080/"
        },
        "id": "ZOOmuyiqIDjk",
        "outputId": "0d720f5a-b871-45d4-d588-fdc14b1b274a"
      },
      "execution_count": 21,
      "outputs": [
        {
          "output_type": "stream",
          "name": "stderr",
          "text": [
            "10it [00:03,  2.88it/s]\n"
          ]
        }
      ]
    },
    {
      "cell_type": "code",
      "source": [
        "df"
      ],
      "metadata": {
        "colab": {
          "base_uri": "https://localhost:8080/",
          "height": 363
        },
        "id": "OlDMu1rTMsYW",
        "outputId": "dea9853e-aa55-49ee-e145-103e3b1c25c7"
      },
      "execution_count": 22,
      "outputs": [
        {
          "output_type": "execute_result",
          "data": {
            "text/plain": [
              "   idx_test_dot  k_optimal     mse\n",
              "0             0          3  0.0000\n",
              "1             1          8  0.1094\n",
              "2             2          4  0.1875\n",
              "3             3          3  0.0000\n",
              "4             4         21  0.2222\n",
              "5             5          6  0.2222\n",
              "6             6          3  0.0000\n",
              "7             7         55  0.2460\n",
              "8             8         18  0.2222\n",
              "9             9          4  0.1875"
            ],
            "text/html": [
              "\n",
              "  <div id=\"df-58ff8194-e77f-4df6-8070-eab749642356\" class=\"colab-df-container\">\n",
              "    <div>\n",
              "<style scoped>\n",
              "    .dataframe tbody tr th:only-of-type {\n",
              "        vertical-align: middle;\n",
              "    }\n",
              "\n",
              "    .dataframe tbody tr th {\n",
              "        vertical-align: top;\n",
              "    }\n",
              "\n",
              "    .dataframe thead th {\n",
              "        text-align: right;\n",
              "    }\n",
              "</style>\n",
              "<table border=\"1\" class=\"dataframe\">\n",
              "  <thead>\n",
              "    <tr style=\"text-align: right;\">\n",
              "      <th></th>\n",
              "      <th>idx_test_dot</th>\n",
              "      <th>k_optimal</th>\n",
              "      <th>mse</th>\n",
              "    </tr>\n",
              "  </thead>\n",
              "  <tbody>\n",
              "    <tr>\n",
              "      <th>0</th>\n",
              "      <td>0</td>\n",
              "      <td>3</td>\n",
              "      <td>0.0000</td>\n",
              "    </tr>\n",
              "    <tr>\n",
              "      <th>1</th>\n",
              "      <td>1</td>\n",
              "      <td>8</td>\n",
              "      <td>0.1094</td>\n",
              "    </tr>\n",
              "    <tr>\n",
              "      <th>2</th>\n",
              "      <td>2</td>\n",
              "      <td>4</td>\n",
              "      <td>0.1875</td>\n",
              "    </tr>\n",
              "    <tr>\n",
              "      <th>3</th>\n",
              "      <td>3</td>\n",
              "      <td>3</td>\n",
              "      <td>0.0000</td>\n",
              "    </tr>\n",
              "    <tr>\n",
              "      <th>4</th>\n",
              "      <td>4</td>\n",
              "      <td>21</td>\n",
              "      <td>0.2222</td>\n",
              "    </tr>\n",
              "    <tr>\n",
              "      <th>5</th>\n",
              "      <td>5</td>\n",
              "      <td>6</td>\n",
              "      <td>0.2222</td>\n",
              "    </tr>\n",
              "    <tr>\n",
              "      <th>6</th>\n",
              "      <td>6</td>\n",
              "      <td>3</td>\n",
              "      <td>0.0000</td>\n",
              "    </tr>\n",
              "    <tr>\n",
              "      <th>7</th>\n",
              "      <td>7</td>\n",
              "      <td>55</td>\n",
              "      <td>0.2460</td>\n",
              "    </tr>\n",
              "    <tr>\n",
              "      <th>8</th>\n",
              "      <td>8</td>\n",
              "      <td>18</td>\n",
              "      <td>0.2222</td>\n",
              "    </tr>\n",
              "    <tr>\n",
              "      <th>9</th>\n",
              "      <td>9</td>\n",
              "      <td>4</td>\n",
              "      <td>0.1875</td>\n",
              "    </tr>\n",
              "  </tbody>\n",
              "</table>\n",
              "</div>\n",
              "    <div class=\"colab-df-buttons\">\n",
              "\n",
              "  <div class=\"colab-df-container\">\n",
              "    <button class=\"colab-df-convert\" onclick=\"convertToInteractive('df-58ff8194-e77f-4df6-8070-eab749642356')\"\n",
              "            title=\"Convert this dataframe to an interactive table.\"\n",
              "            style=\"display:none;\">\n",
              "\n",
              "  <svg xmlns=\"http://www.w3.org/2000/svg\" height=\"24px\" viewBox=\"0 -960 960 960\">\n",
              "    <path d=\"M120-120v-720h720v720H120Zm60-500h600v-160H180v160Zm220 220h160v-160H400v160Zm0 220h160v-160H400v160ZM180-400h160v-160H180v160Zm440 0h160v-160H620v160ZM180-180h160v-160H180v160Zm440 0h160v-160H620v160Z\"/>\n",
              "  </svg>\n",
              "    </button>\n",
              "\n",
              "  <style>\n",
              "    .colab-df-container {\n",
              "      display:flex;\n",
              "      gap: 12px;\n",
              "    }\n",
              "\n",
              "    .colab-df-convert {\n",
              "      background-color: #E8F0FE;\n",
              "      border: none;\n",
              "      border-radius: 50%;\n",
              "      cursor: pointer;\n",
              "      display: none;\n",
              "      fill: #1967D2;\n",
              "      height: 32px;\n",
              "      padding: 0 0 0 0;\n",
              "      width: 32px;\n",
              "    }\n",
              "\n",
              "    .colab-df-convert:hover {\n",
              "      background-color: #E2EBFA;\n",
              "      box-shadow: 0px 1px 2px rgba(60, 64, 67, 0.3), 0px 1px 3px 1px rgba(60, 64, 67, 0.15);\n",
              "      fill: #174EA6;\n",
              "    }\n",
              "\n",
              "    .colab-df-buttons div {\n",
              "      margin-bottom: 4px;\n",
              "    }\n",
              "\n",
              "    [theme=dark] .colab-df-convert {\n",
              "      background-color: #3B4455;\n",
              "      fill: #D2E3FC;\n",
              "    }\n",
              "\n",
              "    [theme=dark] .colab-df-convert:hover {\n",
              "      background-color: #434B5C;\n",
              "      box-shadow: 0px 1px 3px 1px rgba(0, 0, 0, 0.15);\n",
              "      filter: drop-shadow(0px 1px 2px rgba(0, 0, 0, 0.3));\n",
              "      fill: #FFFFFF;\n",
              "    }\n",
              "  </style>\n",
              "\n",
              "    <script>\n",
              "      const buttonEl =\n",
              "        document.querySelector('#df-58ff8194-e77f-4df6-8070-eab749642356 button.colab-df-convert');\n",
              "      buttonEl.style.display =\n",
              "        google.colab.kernel.accessAllowed ? 'block' : 'none';\n",
              "\n",
              "      async function convertToInteractive(key) {\n",
              "        const element = document.querySelector('#df-58ff8194-e77f-4df6-8070-eab749642356');\n",
              "        const dataTable =\n",
              "          await google.colab.kernel.invokeFunction('convertToInteractive',\n",
              "                                                    [key], {});\n",
              "        if (!dataTable) return;\n",
              "\n",
              "        const docLinkHtml = 'Like what you see? Visit the ' +\n",
              "          '<a target=\"_blank\" href=https://colab.research.google.com/notebooks/data_table.ipynb>data table notebook</a>'\n",
              "          + ' to learn more about interactive tables.';\n",
              "        element.innerHTML = '';\n",
              "        dataTable['output_type'] = 'display_data';\n",
              "        await google.colab.output.renderOutput(dataTable, element);\n",
              "        const docLink = document.createElement('div');\n",
              "        docLink.innerHTML = docLinkHtml;\n",
              "        element.appendChild(docLink);\n",
              "      }\n",
              "    </script>\n",
              "  </div>\n",
              "\n",
              "\n",
              "<div id=\"df-ca97c181-f810-43d9-ae25-6a74524fe04f\">\n",
              "  <button class=\"colab-df-quickchart\" onclick=\"quickchart('df-ca97c181-f810-43d9-ae25-6a74524fe04f')\"\n",
              "            title=\"Suggest charts.\"\n",
              "            style=\"display:none;\">\n",
              "\n",
              "<svg xmlns=\"http://www.w3.org/2000/svg\" height=\"24px\"viewBox=\"0 0 24 24\"\n",
              "     width=\"24px\">\n",
              "    <g>\n",
              "        <path d=\"M19 3H5c-1.1 0-2 .9-2 2v14c0 1.1.9 2 2 2h14c1.1 0 2-.9 2-2V5c0-1.1-.9-2-2-2zM9 17H7v-7h2v7zm4 0h-2V7h2v10zm4 0h-2v-4h2v4z\"/>\n",
              "    </g>\n",
              "</svg>\n",
              "  </button>\n",
              "\n",
              "<style>\n",
              "  .colab-df-quickchart {\n",
              "      --bg-color: #E8F0FE;\n",
              "      --fill-color: #1967D2;\n",
              "      --hover-bg-color: #E2EBFA;\n",
              "      --hover-fill-color: #174EA6;\n",
              "      --disabled-fill-color: #AAA;\n",
              "      --disabled-bg-color: #DDD;\n",
              "  }\n",
              "\n",
              "  [theme=dark] .colab-df-quickchart {\n",
              "      --bg-color: #3B4455;\n",
              "      --fill-color: #D2E3FC;\n",
              "      --hover-bg-color: #434B5C;\n",
              "      --hover-fill-color: #FFFFFF;\n",
              "      --disabled-bg-color: #3B4455;\n",
              "      --disabled-fill-color: #666;\n",
              "  }\n",
              "\n",
              "  .colab-df-quickchart {\n",
              "    background-color: var(--bg-color);\n",
              "    border: none;\n",
              "    border-radius: 50%;\n",
              "    cursor: pointer;\n",
              "    display: none;\n",
              "    fill: var(--fill-color);\n",
              "    height: 32px;\n",
              "    padding: 0;\n",
              "    width: 32px;\n",
              "  }\n",
              "\n",
              "  .colab-df-quickchart:hover {\n",
              "    background-color: var(--hover-bg-color);\n",
              "    box-shadow: 0 1px 2px rgba(60, 64, 67, 0.3), 0 1px 3px 1px rgba(60, 64, 67, 0.15);\n",
              "    fill: var(--button-hover-fill-color);\n",
              "  }\n",
              "\n",
              "  .colab-df-quickchart-complete:disabled,\n",
              "  .colab-df-quickchart-complete:disabled:hover {\n",
              "    background-color: var(--disabled-bg-color);\n",
              "    fill: var(--disabled-fill-color);\n",
              "    box-shadow: none;\n",
              "  }\n",
              "\n",
              "  .colab-df-spinner {\n",
              "    border: 2px solid var(--fill-color);\n",
              "    border-color: transparent;\n",
              "    border-bottom-color: var(--fill-color);\n",
              "    animation:\n",
              "      spin 1s steps(1) infinite;\n",
              "  }\n",
              "\n",
              "  @keyframes spin {\n",
              "    0% {\n",
              "      border-color: transparent;\n",
              "      border-bottom-color: var(--fill-color);\n",
              "      border-left-color: var(--fill-color);\n",
              "    }\n",
              "    20% {\n",
              "      border-color: transparent;\n",
              "      border-left-color: var(--fill-color);\n",
              "      border-top-color: var(--fill-color);\n",
              "    }\n",
              "    30% {\n",
              "      border-color: transparent;\n",
              "      border-left-color: var(--fill-color);\n",
              "      border-top-color: var(--fill-color);\n",
              "      border-right-color: var(--fill-color);\n",
              "    }\n",
              "    40% {\n",
              "      border-color: transparent;\n",
              "      border-right-color: var(--fill-color);\n",
              "      border-top-color: var(--fill-color);\n",
              "    }\n",
              "    60% {\n",
              "      border-color: transparent;\n",
              "      border-right-color: var(--fill-color);\n",
              "    }\n",
              "    80% {\n",
              "      border-color: transparent;\n",
              "      border-right-color: var(--fill-color);\n",
              "      border-bottom-color: var(--fill-color);\n",
              "    }\n",
              "    90% {\n",
              "      border-color: transparent;\n",
              "      border-bottom-color: var(--fill-color);\n",
              "    }\n",
              "  }\n",
              "</style>\n",
              "\n",
              "  <script>\n",
              "    async function quickchart(key) {\n",
              "      const quickchartButtonEl =\n",
              "        document.querySelector('#' + key + ' button');\n",
              "      quickchartButtonEl.disabled = true;  // To prevent multiple clicks.\n",
              "      quickchartButtonEl.classList.add('colab-df-spinner');\n",
              "      try {\n",
              "        const charts = await google.colab.kernel.invokeFunction(\n",
              "            'suggestCharts', [key], {});\n",
              "      } catch (error) {\n",
              "        console.error('Error during call to suggestCharts:', error);\n",
              "      }\n",
              "      quickchartButtonEl.classList.remove('colab-df-spinner');\n",
              "      quickchartButtonEl.classList.add('colab-df-quickchart-complete');\n",
              "    }\n",
              "    (() => {\n",
              "      let quickchartButtonEl =\n",
              "        document.querySelector('#df-ca97c181-f810-43d9-ae25-6a74524fe04f button');\n",
              "      quickchartButtonEl.style.display =\n",
              "        google.colab.kernel.accessAllowed ? 'block' : 'none';\n",
              "    })();\n",
              "  </script>\n",
              "</div>\n",
              "    </div>\n",
              "  </div>\n"
            ]
          },
          "metadata": {},
          "execution_count": 22
        }
      ]
    }
  ]
}